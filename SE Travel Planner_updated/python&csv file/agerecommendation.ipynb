{
 "cells": [
  {
   "cell_type": "code",
   "execution_count": 1,
   "metadata": {},
   "outputs": [],
   "source": [
    "import pandas as pd\n",
    "\n",
    "# Assuming your CSV file is named 'travel_data.csv'\n",
    "df = pd.read_csv('Age.csv')\n",
    "\n",
    "\n"
   ]
  },
  {
   "cell_type": "code",
   "execution_count": 2,
   "metadata": {},
   "outputs": [
    {
     "name": "stdout",
     "output_type": "stream",
     "text": [
      "The avaialble packages are for the following number of days: \n",
      "      Duration (days)\n",
      "18               6.0\n",
      "88              11.0\n",
      "97               5.0\n",
      "110              5.0\n"
     ]
    }
   ],
   "source": [
    "# Get user input for age\n",
    "user_dest = (input(\"Hello,Enter your preferred destination: \"))\n",
    "\n",
    "# Filter DataFrame based on user's age\n",
    "filtered_data = df[df['Destination'] == user_dest]                                                                                                                                                                                                                                                                                                                                                                                                                                                                                                                                                                                                                                                                                                                                                                                                                                                                                                                                                                                                                                                                                                                                                                                                                                          \n",
    "\n",
    "# Display relevant information\n",
    "print(\"The avaialble packages are for the following number of days: \\n\",filtered_data[['Duration (days)']])"
   ]
  },
  {
   "cell_type": "code",
   "execution_count": 3,
   "metadata": {},
   "outputs": [
    {
     "name": "stdout",
     "output_type": "stream",
     "text": [
      "          Destination  Duration (days) Accommodation type Accommodation cost\n",
      "0         London, UK              7.0              Hotel               1200\n",
      "18            London              6.0              Hotel            $1,200 \n",
      "55        London, UK              8.0              Hotel            $1,000 \n",
      "60             Paris              6.0              Hotel               1200\n",
      "72   Bali, Indonesia              7.0             Resort            500 USD\n",
      "83             Paris              6.0              Hotel            800 USD\n",
      "94             Paris              5.0              Hotel              $500 \n",
      "105            Paris              5.0              Hotel               1000\n",
      "122   Athens, Greece             10.0             Airbnb                700\n",
      "128    Paris, France              6.0              Hotel               5000\n"
     ]
    }
   ],
   "source": [
    "user_age = int(input(\" Mind sharing your age with me? I'm here to give you awesome travel recommendations based on what's trending among people of your age group! \\n\"))\n",
    "\n",
    "# Filter DataFrame based on user's age\n",
    "filtered_data = df[df['Traveler age'] == user_age]\n",
    "\n",
    "# Display relevant information\n",
    "print(\"\",filtered_data[['Destination', 'Duration (days)', 'Accommodation type','Accommodation cost']])\n"
   ]
  }
 ],
 "metadata": {
  "kernelspec": {
   "display_name": "Python 3",
   "language": "python",
   "name": "python3"
  },
  "language_info": {
   "codemirror_mode": {
    "name": "ipython",
    "version": 3
   },
   "file_extension": ".py",
   "mimetype": "text/x-python",
   "name": "python",
   "nbconvert_exporter": "python",
   "pygments_lexer": "ipython3",
   "version": "3.12.0"
  }
 },
 "nbformat": 4,
 "nbformat_minor": 2
}
